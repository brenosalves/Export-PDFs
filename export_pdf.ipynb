{
 "cells": [
  {
   "cell_type": "markdown",
   "metadata": {},
   "source": [
    "Importando as bibliotecas"
   ]
  },
  {
   "cell_type": "code",
   "execution_count": 1,
   "metadata": {},
   "outputs": [],
   "source": [
    "import tabula\n",
    "import pandas as pd\n",
    "import re"
   ]
  },
  {
   "cell_type": "markdown",
   "metadata": {},
   "source": [
    "Exportando informações do PDF"
   ]
  },
  {
   "cell_type": "code",
   "execution_count": 11,
   "metadata": {},
   "outputs": [],
   "source": [
    "data = \"data/resumo_carteira.pdf\""
   ]
  },
  {
   "cell_type": "markdown",
   "metadata": {},
   "source": [
    "Função para extrair a Cota Líquida e Cota Bruta"
   ]
  },
  {
   "cell_type": "code",
   "execution_count": 12,
   "metadata": {},
   "outputs": [],
   "source": [
    "def extract_cotas(data):\n",
    "    # Lendo o PDF e convertendo em DataFrame\n",
    "    data = tabula.read_pdf(data, pages='1', multiple_tables=True, lattice=True) #Filtrando apenas primeira página do .pdf\n",
    "\n",
    "    # Se houver mais de uma tabela, você pode concatenar todas em um único DataFrame\n",
    "    #df = pd.concat(df, ignore_index=True)\n",
    "\n",
    "    #Transformando para string\n",
    "    data = str(data)\n",
    "\n",
    "    # Definir padrões de expressão regular para Cota Líquida e Cota Bruta\n",
    "    cota_liquida_pattern = r'COTA LÍQUIDA([\\d.,]+)'\n",
    "    cota_bruta_pattern = r'COTA BRUTA([\\d.,]+)'\n",
    "    \n",
    "    # Encontrar correspondências usando expressões regulares\n",
    "    cota_liquida_match = re.search(cota_liquida_pattern, data)\n",
    "    cota_bruta_match = re.search(cota_bruta_pattern, data)\n",
    "    \n",
    "    # Extrair os valores encontrados\n",
    "    cota_liquida = cota_liquida_match.group(1).replace(',', '.') if cota_liquida_match else None\n",
    "    cota_bruta = cota_bruta_match.group(1).replace(',', '.') if cota_bruta_match else None\n",
    "    \n",
    "    data = {\n",
    "        'Tipo': ['Cota Líquida', 'Cota Bruta'],\n",
    "        'Valor': [cota_liquida, cota_bruta]\n",
    "    }\n",
    "\n",
    "    #Transformando para DataFrame\n",
    "    df_cotas = pd.DataFrame(data)\n",
    "\n",
    "    return print(df_cotas)\n"
   ]
  },
  {
   "cell_type": "code",
   "execution_count": 13,
   "metadata": {},
   "outputs": [
    {
     "name": "stdout",
     "output_type": "stream",
     "text": [
      "           Tipo       Valor\n",
      "0  Cota Líquida  0.99343916\n",
      "1    Cota Bruta  0.99343916\n"
     ]
    }
   ],
   "source": [
    "# Extrair as cotas\n",
    "extract_cotas(data)"
   ]
  },
  {
   "cell_type": "code",
   "execution_count": null,
   "metadata": {},
   "outputs": [],
   "source": []
  }
 ],
 "metadata": {
  "kernelspec": {
   "display_name": "exportpdf",
   "language": "python",
   "name": "python3"
  },
  "language_info": {
   "codemirror_mode": {
    "name": "ipython",
    "version": 3
   },
   "file_extension": ".py",
   "mimetype": "text/x-python",
   "name": "python",
   "nbconvert_exporter": "python",
   "pygments_lexer": "ipython3",
   "version": "3.8.19"
  }
 },
 "nbformat": 4,
 "nbformat_minor": 2
}
